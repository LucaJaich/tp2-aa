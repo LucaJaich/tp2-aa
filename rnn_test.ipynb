{
 "cells": [
  {
   "cell_type": "code",
   "execution_count": null,
   "id": "13c65c70",
   "metadata": {},
   "outputs": [],
   "source": [
    "from datasets import TextDataset\n",
    "import numpy as np\n",
    "\n",
    "class RNNDataset(TextDataset):\n",
    "    def __init__(self, texts: list[str]):\n",
    "        super().__init__(texts)\n",
    "        self.X = np.concatenate([text.embeddings for text in self.texts])\n",
    "        # self.y = "
   ]
  },
  {
   "cell_type": "code",
   "execution_count": null,
   "id": "0e978b04",
   "metadata": {},
   "outputs": [],
   "source": [
    "from torch import nn\n",
    "\n",
    "class RNNText(nn.Module):\n",
    "    def __init__(self, input_size, hidden_dim):\n",
    "        self.rnn = nn.LSTM(input_size, hidden_size=hidden_dim, batch_first=True)\n",
    "        self.fc = nn.Linear(hidden_dim, 1)\n",
    "\n",
    "    def forward(self, x):\n",
    "        output, _ = self.rnn(x)\n",
    "        output = self.fc(output.squeeze(1))\n",
    "        return output"
   ]
  }
 ],
 "metadata": {
  "kernelspec": {
   "display_name": "Python 3",
   "language": "python",
   "name": "python3"
  },
  "language_info": {
   "codemirror_mode": {
    "name": "ipython",
    "version": 3
   },
   "file_extension": ".py",
   "mimetype": "text/x-python",
   "name": "python",
   "nbconvert_exporter": "python",
   "pygments_lexer": "ipython3",
   "version": "3.11.5"
  }
 },
 "nbformat": 4,
 "nbformat_minor": 5
}
