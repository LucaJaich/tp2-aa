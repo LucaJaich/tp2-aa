{
 "cells": [
  {
   "cell_type": "code",
   "execution_count": null,
   "id": "e8a6cfa7",
   "metadata": {},
   "outputs": [],
   "source": [
    "from datasets import load_dataset\n",
    "import os\n",
    "\n",
    "MAX_TEXTS = 100\n",
    "\n",
    "output_dir = \"gutenberg\"\n",
    "os.makedirs(output_dir, exist_ok=True)\n",
    "\n",
    "dataset = load_dataset(\"manu/project_gutenberg\", split=\"es\", streaming=True)\n",
    "\n",
    "for i, example in enumerate(dataset):\n",
    "\n",
    "    if i >= MAX_TEXTS:\n",
    "        break\n",
    "    \n",
    "    full_text = example[\"text\"]\n",
    "\n",
    "    # Encontrar las posiciones de las apariciones de '***'\n",
    "    parts = full_text.split(\"***\")\n",
    "\n",
    "    if len(parts) >= 3:\n",
    "        # Tomar el texto después del segundo '***'\n",
    "        processed_text = \"***\".join(parts[2:]).strip()\n",
    "    else:\n",
    "        pass\n",
    "\n",
    "    filename = os.path.join(output_dir, f\"text_{i}.txt\")\n",
    "    with open(filename, \"w\", encoding=\"utf-8\") as f:\n",
    "        f.write(processed_text)\n",
    "\n",
    "    i -= 1\n"
   ]
  }
 ],
 "metadata": {
  "kernelspec": {
   "display_name": "Python 3",
   "language": "python",
   "name": "python3"
  },
  "language_info": {
   "codemirror_mode": {
    "name": "ipython",
    "version": 3
   },
   "file_extension": ".py",
   "mimetype": "text/x-python",
   "name": "python",
   "nbconvert_exporter": "python",
   "pygments_lexer": "ipython3",
   "version": "3.10.4"
  }
 },
 "nbformat": 4,
 "nbformat_minor": 5
}
